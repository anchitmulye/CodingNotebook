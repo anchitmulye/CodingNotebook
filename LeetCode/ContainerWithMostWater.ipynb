{
 "cells": [
  {
   "cell_type": "markdown",
   "metadata": {},
   "source": [
    "# 11. Container With Most Water\n",
    "\n",
    "| Type   | Info         |\n",
    "|--------|--------------|\n",
    "| Number | 11           |\n",
    "| Link   | [Container With Most Water](https://leetcode.com/problems/container-with-most-water/) |\n",
    "| Level  | Medium       |\n",
    "| Topic  | Two Pointers |\n",
    "\n",
    "You are given an integer array height of length n. There are n vertical lines drawn such that the two endpoints of the ith line are (i, 0) and (i, height[i]).\n",
    "Find two lines that together with the x-axis form a container, such that the container contains the most water.\n",
    "Return the maximum amount of water a container can store.\n",
    "Notice that you may not slant the container.\n",
    "\n",
    "* Example 1:  \n",
    "    Input: height = [1,8,6,2,5,4,8,3,7]  \n",
    "    Output: 49  \n",
    "    Explanation: The above vertical lines are represented by array [1,8,6,2,5,4,8,3,7]. In this case, the max area of water (blue section) the container can contain is 49.  \n",
    "\n",
    "* Example 2:  \n",
    "    Input: height = [1,1]  \n",
    "    Output: 1  \n",
    "\n",
    "Constraints:\n",
    "\n",
    "* n == height.length\n",
    "* 2 <= n <= 10^5\n",
    "* 0 <= height[i] <= 10^4"
   ]
  },
  {
   "cell_type": "markdown",
   "metadata": {},
   "source": [
    "#### 1. Import"
   ]
  },
  {
   "cell_type": "code",
   "execution_count": null,
   "metadata": {},
   "outputs": [],
   "source": [
    "import unittest\n",
    "from typing import List"
   ]
  },
  {
   "cell_type": "markdown",
   "metadata": {},
   "source": [
    "#### 2. Solution"
   ]
  },
  {
   "cell_type": "code",
   "execution_count": null,
   "metadata": {},
   "outputs": [],
   "source": [
    "class Solution:\n",
    "    def maxArea(self, height: List[int]) -> int:\n",
    "        max_area = 0\n",
    "        low = 0\n",
    "        high = len(height) - 1\n",
    "\n",
    "        while low < high:\n",
    "            max_area = max(max_area, min(height[low], height[high]) * (high - low))\n",
    "            if height[low] < height[high]:\n",
    "                low += 1\n",
    "            else:\n",
    "                high -= 1\n",
    "        \n",
    "        return max_area\n"
   ]
  },
  {
   "cell_type": "markdown",
   "metadata": {},
   "source": [
    "#### 3. Test"
   ]
  },
  {
   "cell_type": "code",
   "execution_count": null,
   "metadata": {},
   "outputs": [],
   "source": [
    "class TestSolution(unittest.TestCase):\n",
    "    \"\"\"Test class Solution.\"\"\"\n",
    "    def setUp(self):\n",
    "        \"\"\"Function to init object.\"\"\"\n",
    "        self.solve = Solution()\n",
    "\n",
    "    def test_example_1(self):\n",
    "        \"\"\"Test case for exmaple 1.\"\"\"\n",
    "        self.assertEqual(self.solve.maxArea([1,8,6,2,5,4,8,3,7]), 49)\n",
    "    \n",
    "    def test_example_2(self):\n",
    "        \"\"\"Test case for exmaple 2.\"\"\"\n",
    "        self.assertEqual(self.solve.maxArea([1, 1]), 1)\n"
   ]
  },
  {
   "cell_type": "markdown",
   "metadata": {},
   "source": [
    "#### 4. Main"
   ]
  },
  {
   "cell_type": "code",
   "execution_count": null,
   "metadata": {},
   "outputs": [],
   "source": [
    "if __name__ == \"__main__\":\n",
    "    unittest.main(argv = [''], verbosity = 2, exit = False)"
   ]
  }
 ],
 "metadata": {
  "kernelspec": {
   "display_name": "Python 3",
   "language": "python",
   "name": "python3"
  },
  "language_info": {
   "codemirror_mode": {
    "name": "ipython",
    "version": 3
   },
   "file_extension": ".py",
   "mimetype": "text/x-python",
   "name": "python",
   "nbconvert_exporter": "python",
   "pygments_lexer": "ipython3",
   "version": "3.9.18"
  }
 },
 "nbformat": 4,
 "nbformat_minor": 2
}
